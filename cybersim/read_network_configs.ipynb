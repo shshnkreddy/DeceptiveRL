{
 "cells": [
  {
   "cell_type": "code",
   "execution_count": 5,
   "metadata": {},
   "outputs": [],
   "source": [
    "import numpy as np\n",
    "import sys\n",
    "sys.path.append('..')\n",
    "from temporary_seed import temporary_seed"
   ]
  },
  {
   "cell_type": "code",
   "execution_count": 6,
   "metadata": {},
   "outputs": [],
   "source": [
    "config_data = np.load('config_data.npy').reshape(25, 10, 3)\n",
    "np.random.shuffle(config_data)\n",
    "# config_data = config_data[:15].reshape(10, 15, 3)"
   ]
  },
  {
   "cell_type": "code",
   "execution_count": 7,
   "metadata": {},
   "outputs": [
    {
     "name": "stdout",
     "output_type": "stream",
     "text": [
      "25\n"
     ]
    }
   ],
   "source": [
    "n_ver, n_seeds, _ = config_data.shape\n",
    "print(n_ver)"
   ]
  },
  {
   "cell_type": "code",
   "execution_count": 8,
   "metadata": {},
   "outputs": [],
   "source": [
    "#generate MDP\n",
    "def get_MDP(netw_configs, n_security_levels=2, seed=0, w1=-0.8, w2=0.0, w3=0.2, noise=0.25):\n",
    "    with temporary_seed(seed):\n",
    "        # states s, s+1 are the same network configuration with different security levels\n",
    "        n_states = netw_configs.shape[0]*n_security_levels\n",
    "        n_actions = netw_configs.shape[1]*n_security_levels\n",
    "        P = np.ones((n_states, n_actions, n_states))*(noise/n_states)\n",
    "        for s in range(n_states):\n",
    "            for a in range(n_actions):\n",
    "                P[s, a, a] = (1-noise)/2\n",
    "                if(a%2==0):\n",
    "                    P[s, a, a+1] = (1-noise)/2\n",
    "                else:\n",
    "                    P[s, a, a-1] = (1-noise)/2\n",
    "\n",
    "        R = np.zeros(n_states)\n",
    "        R_matrix = netw_configs/np.linalg.norm(netw_configs, axis=0, keepdims=True)\n",
    "        \n",
    "        print(R_matrix)\n",
    "        for s in range(0, n_states, n_security_levels):\n",
    "            R[s+1] = np.dot(R_matrix[s//2], [w1, w2, w3])\n",
    "            R[s] = np.dot(R_matrix[s//2], [w1, w2, w3]) - np.random.random()/5\n",
    "\n",
    "\n",
    "        \n",
    "\n",
    "        \n",
    "        \n",
    "\n",
    "\n",
    "\n",
    "\n",
    "\n"
   ]
  },
  {
   "cell_type": "code",
   "execution_count": null,
   "metadata": {},
   "outputs": [],
   "source": []
  },
  {
   "cell_type": "code",
   "execution_count": null,
   "metadata": {},
   "outputs": [],
   "source": []
  }
 ],
 "metadata": {
  "kernelspec": {
   "display_name": "cyber",
   "language": "python",
   "name": "python3"
  },
  "language_info": {
   "codemirror_mode": {
    "name": "ipython",
    "version": 3
   },
   "file_extension": ".py",
   "mimetype": "text/x-python",
   "name": "python",
   "nbconvert_exporter": "python",
   "pygments_lexer": "ipython3",
   "version": "3.9.17"
  },
  "orig_nbformat": 4
 },
 "nbformat": 4,
 "nbformat_minor": 2
}
